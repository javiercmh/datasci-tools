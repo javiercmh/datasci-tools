{
 "cells": [
  {
   "cell_type": "markdown",
   "id": "a1619c12",
   "metadata": {},
   "source": [
    "# Tools sandbox\n",
    "\n",
    "In this notebook we showcase the `tools.py` library."
   ]
  },
  {
   "cell_type": "markdown",
   "id": "0fc4e711",
   "metadata": {},
   "source": [
    "## pie()\n",
    "\n",
    "Useful pie plot with matplotlib. It has the following parameters:\n",
    "\n",
    "- values (mandatory): `list` or `pandas.Series()` of unique values. Using `value_counts()` is highly recommended.\n",
    "- labels: if `None`, indices of `values` will be used. Default: None.\n",
    "- title: header for the plot. Default: ''.\n",
    "- slices: set a number of slices, to avoid clutter. Default: None.\n",
    "- percent_only: if False it will show count and percent. Default: False.\n",
    "- explode: slightly separate the slice with the highest value. Default: True.\n",
    "- color: text color. Default: 'white'."
   ]
  },
  {
   "cell_type": "code",
   "execution_count": 1,
   "id": "54599bcc",
   "metadata": {},
   "outputs": [],
   "source": [
    "from tools import pie"
   ]
  },
  {
   "cell_type": "code",
   "execution_count": 3,
   "id": "c478e6bf",
   "metadata": {},
   "outputs": [],
   "source": [
    "import pandas as pd"
   ]
  },
  {
   "cell_type": "code",
   "execution_count": 4,
   "id": "cca75d2d",
   "metadata": {},
   "outputs": [],
   "source": [
    "ex = ['hi', 'hi', 'ho', 'ho', 'ho', 'he', 'he', 1]\n",
    "ex = ['hi', 'hi', 'ho', 'ho', 'ho', 'he', 'he']\n",
    "# ex = [2, 5, 6, 7, 2, 6, 4, 3, 6, 1, 7, 8, 3, 5, 6, 1, 6, 2, 4, 7, 2, 6, 2, 7, 7, 3, 6]\n",
    "\n",
    "ex = pd.Series(ex).value_counts()  # works best with value counts"
   ]
  },
  {
   "cell_type": "code",
   "execution_count": 5,
   "id": "adafa88f",
   "metadata": {},
   "outputs": [
    {
     "data": {
      "text/plain": [
       "ho    3\n",
       "hi    2\n",
       "he    2\n",
       "dtype: int64"
      ]
     },
     "execution_count": 5,
     "metadata": {},
     "output_type": "execute_result"
    }
   ],
   "source": [
    "ex"
   ]
  },
  {
   "cell_type": "code",
   "execution_count": 6,
   "id": "f7bacfbc",
   "metadata": {
    "scrolled": true
   },
   "outputs": [
    {
     "data": {
      "image/png": "[encoded data removed]",
      "text/plain": [
       "<Figure size 432x288 with 1 Axes>"
      ]
     },
     "metadata": {},
     "output_type": "display_data"
    }
   ],
   "source": [
    "pie(ex, title='Example')"
   ]
  },
  {
   "cell_type": "markdown",
   "id": "d7c991af",
   "metadata": {},
   "source": [
    "## corr_matrix()\n",
    "\n",
    "Generates a correlation matrix with p values, just like SPSS. It takes the following parameters:\n",
    "\n",
    "- data: pandas.DataFrame to calculate correlations\n",
    "- significance: bool that determines whether to include asterisks to correlations. Default: False.\n",
    "- decimals: int used to round values. Default: 3."
   ]
  },
  {
   "cell_type": "code",
   "execution_count": 7,
   "id": "d937a06b",
   "metadata": {},
   "outputs": [],
   "source": [
    "from tools import corr_matrix"
   ]
  },
  {
   "cell_type": "code",
   "execution_count": 9,
   "id": "bf2b9a5f",
   "metadata": {},
   "outputs": [
    {
     "data": {
      "text/html": [
       "<div>\n",
       "<style scoped>\n",
       "    .dataframe tbody tr th:only-of-type {\n",
       "        vertical-align: middle;\n",
       "    }\n",
       "\n",
       "    .dataframe tbody tr th {\n",
       "        vertical-align: top;\n",
       "    }\n",
       "\n",
       "    .dataframe thead th {\n",
       "        text-align: right;\n",
       "    }\n",
       "</style>\n",
       "<table border=\"1\" class=\"dataframe\">\n",
       "  <thead>\n",
       "    <tr style=\"text-align: right;\">\n",
       "      <th></th>\n",
       "      <th>a</th>\n",
       "      <th>b</th>\n",
       "      <th>c</th>\n",
       "      <th>d</th>\n",
       "    </tr>\n",
       "  </thead>\n",
       "  <tbody>\n",
       "    <tr>\n",
       "      <th>0</th>\n",
       "      <td>38</td>\n",
       "      <td>31</td>\n",
       "      <td>30</td>\n",
       "      <td>27</td>\n",
       "    </tr>\n",
       "    <tr>\n",
       "      <th>1</th>\n",
       "      <td>22</td>\n",
       "      <td>25</td>\n",
       "      <td>41</td>\n",
       "      <td>9</td>\n",
       "    </tr>\n",
       "    <tr>\n",
       "      <th>2</th>\n",
       "      <td>2</td>\n",
       "      <td>24</td>\n",
       "      <td>41</td>\n",
       "      <td>0</td>\n",
       "    </tr>\n",
       "    <tr>\n",
       "      <th>3</th>\n",
       "      <td>15</td>\n",
       "      <td>1</td>\n",
       "      <td>1</td>\n",
       "      <td>25</td>\n",
       "    </tr>\n",
       "    <tr>\n",
       "      <th>4</th>\n",
       "      <td>39</td>\n",
       "      <td>36</td>\n",
       "      <td>7</td>\n",
       "      <td>26</td>\n",
       "    </tr>\n",
       "    <tr>\n",
       "      <th>...</th>\n",
       "      <td>...</td>\n",
       "      <td>...</td>\n",
       "      <td>...</td>\n",
       "      <td>...</td>\n",
       "    </tr>\n",
       "    <tr>\n",
       "      <th>55</th>\n",
       "      <td>19</td>\n",
       "      <td>19</td>\n",
       "      <td>38</td>\n",
       "      <td>33</td>\n",
       "    </tr>\n",
       "    <tr>\n",
       "      <th>56</th>\n",
       "      <td>42</td>\n",
       "      <td>41</td>\n",
       "      <td>41</td>\n",
       "      <td>17</td>\n",
       "    </tr>\n",
       "    <tr>\n",
       "      <th>57</th>\n",
       "      <td>32</td>\n",
       "      <td>40</td>\n",
       "      <td>10</td>\n",
       "      <td>39</td>\n",
       "    </tr>\n",
       "    <tr>\n",
       "      <th>58</th>\n",
       "      <td>29</td>\n",
       "      <td>11</td>\n",
       "      <td>22</td>\n",
       "      <td>10</td>\n",
       "    </tr>\n",
       "    <tr>\n",
       "      <th>59</th>\n",
       "      <td>15</td>\n",
       "      <td>11</td>\n",
       "      <td>2</td>\n",
       "      <td>29</td>\n",
       "    </tr>\n",
       "  </tbody>\n",
       "</table>\n",
       "<p>60 rows × 4 columns</p>\n",
       "</div>"
      ],
      "text/plain": [
       "     a   b   c   d\n",
       "0   38  31  30  27\n",
       "1   22  25  41   9\n",
       "2    2  24  41   0\n",
       "3   15   1   1  25\n",
       "4   39  36   7  26\n",
       "..  ..  ..  ..  ..\n",
       "55  19  19  38  33\n",
       "56  42  41  41  17\n",
       "57  32  40  10  39\n",
       "58  29  11  22  10\n",
       "59  15  11   2  29\n",
       "\n",
       "[60 rows x 4 columns]"
      ]
     },
     "execution_count": 9,
     "metadata": {},
     "output_type": "execute_result"
    }
   ],
   "source": [
    "# generate toy data\n",
    "\n",
    "from random import randint\n",
    "from scipy.stats import pearsonr\n",
    "from scipy.optimize import minimize\n",
    "\n",
    "n = 60\n",
    "\n",
    "data = pd.DataFrame({'a': [randint(1, 42) for _ in range(n)]})\n",
    "\n",
    "def fun_a(x):\n",
    "    if np.std(x) >= n:\n",
    "        return np.std(x)\n",
    "    return abs(0.5 - pearsonr(data['a'], x)[0])\n",
    "\n",
    "def fun_b(x):\n",
    "    if np.std(x) >= n:\n",
    "        return np.std(x)\n",
    "    return abs(0.3 - pearsonr(data['b'], x)[0])\n",
    "\n",
    "\n",
    "data['b'] = minimize(fun_a, [randint(1, 42) for _ in range(n)], \n",
    "                     method = 'SLSQP', bounds = [(1, 42) for _ in range(n)]).x\n",
    "\n",
    "data['c'] = minimize(fun_b, [randint(1, 42) for _ in range(n)], \n",
    "                     method = 'SLSQP', bounds = [(1, 42) for _ in range(n)]).x\n",
    "\n",
    "data['d'] = abs(minimize(lambda x: abs(0.3 - pearsonr(data['a'], x)[0]), \n",
    "                     np.random.uniform(1, 42, n)).x)\n",
    "\n",
    "data = data.astype(np.int32)\n",
    "data"
   ]
  },
  {
   "cell_type": "code",
   "execution_count": 18,
   "id": "75b13d72",
   "metadata": {
    "scrolled": true
   },
   "outputs": [
    {
     "data": {
      "text/html": [
       "<div>\n",
       "<style scoped>\n",
       "    .dataframe tbody tr th:only-of-type {\n",
       "        vertical-align: middle;\n",
       "    }\n",
       "\n",
       "    .dataframe tbody tr th {\n",
       "        vertical-align: top;\n",
       "    }\n",
       "\n",
       "    .dataframe thead th {\n",
       "        text-align: right;\n",
       "    }\n",
       "</style>\n",
       "<table border=\"1\" class=\"dataframe\">\n",
       "  <thead>\n",
       "    <tr style=\"text-align: right;\">\n",
       "      <th></th>\n",
       "      <th>a</th>\n",
       "      <th>b</th>\n",
       "      <th>c</th>\n",
       "      <th>d</th>\n",
       "      <th>e</th>\n",
       "    </tr>\n",
       "  </thead>\n",
       "  <tbody>\n",
       "    <tr>\n",
       "      <th>0</th>\n",
       "      <td>38.0</td>\n",
       "      <td>31</td>\n",
       "      <td>30</td>\n",
       "      <td>27</td>\n",
       "      <td>a</td>\n",
       "    </tr>\n",
       "    <tr>\n",
       "      <th>1</th>\n",
       "      <td>22.0</td>\n",
       "      <td>25</td>\n",
       "      <td>41</td>\n",
       "      <td>9</td>\n",
       "      <td>a</td>\n",
       "    </tr>\n",
       "    <tr>\n",
       "      <th>2</th>\n",
       "      <td>2.0</td>\n",
       "      <td>24</td>\n",
       "      <td>41</td>\n",
       "      <td>0</td>\n",
       "      <td>a</td>\n",
       "    </tr>\n",
       "    <tr>\n",
       "      <th>3</th>\n",
       "      <td>15.0</td>\n",
       "      <td>1</td>\n",
       "      <td>1</td>\n",
       "      <td>25</td>\n",
       "      <td>a</td>\n",
       "    </tr>\n",
       "    <tr>\n",
       "      <th>4</th>\n",
       "      <td>NaN</td>\n",
       "      <td>36</td>\n",
       "      <td>7</td>\n",
       "      <td>26</td>\n",
       "      <td>a</td>\n",
       "    </tr>\n",
       "    <tr>\n",
       "      <th>...</th>\n",
       "      <td>...</td>\n",
       "      <td>...</td>\n",
       "      <td>...</td>\n",
       "      <td>...</td>\n",
       "      <td>...</td>\n",
       "    </tr>\n",
       "    <tr>\n",
       "      <th>55</th>\n",
       "      <td>19.0</td>\n",
       "      <td>19</td>\n",
       "      <td>38</td>\n",
       "      <td>33</td>\n",
       "      <td>a</td>\n",
       "    </tr>\n",
       "    <tr>\n",
       "      <th>56</th>\n",
       "      <td>42.0</td>\n",
       "      <td>41</td>\n",
       "      <td>41</td>\n",
       "      <td>17</td>\n",
       "      <td>a</td>\n",
       "    </tr>\n",
       "    <tr>\n",
       "      <th>57</th>\n",
       "      <td>32.0</td>\n",
       "      <td>40</td>\n",
       "      <td>10</td>\n",
       "      <td>39</td>\n",
       "      <td>a</td>\n",
       "    </tr>\n",
       "    <tr>\n",
       "      <th>58</th>\n",
       "      <td>29.0</td>\n",
       "      <td>11</td>\n",
       "      <td>22</td>\n",
       "      <td>10</td>\n",
       "      <td>a</td>\n",
       "    </tr>\n",
       "    <tr>\n",
       "      <th>59</th>\n",
       "      <td>15.0</td>\n",
       "      <td>11</td>\n",
       "      <td>2</td>\n",
       "      <td>29</td>\n",
       "      <td>a</td>\n",
       "    </tr>\n",
       "  </tbody>\n",
       "</table>\n",
       "<p>60 rows × 5 columns</p>\n",
       "</div>"
      ],
      "text/plain": [
       "       a   b   c   d  e\n",
       "0   38.0  31  30  27  a\n",
       "1   22.0  25  41   9  a\n",
       "2    2.0  24  41   0  a\n",
       "3   15.0   1   1  25  a\n",
       "4    NaN  36   7  26  a\n",
       "..   ...  ..  ..  .. ..\n",
       "55  19.0  19  38  33  a\n",
       "56  42.0  41  41  17  a\n",
       "57  32.0  40  10  39  a\n",
       "58  29.0  11  22  10  a\n",
       "59  15.0  11   2  29  a\n",
       "\n",
       "[60 rows x 5 columns]"
      ]
     },
     "execution_count": 18,
     "metadata": {},
     "output_type": "execute_result"
    }
   ],
   "source": [
    "# make it harder with a missing value and a column with strings\n",
    "data2 = data.copy()\n",
    "data2['a'][4] = np.nan\n",
    "# data2['b'][7] = '-'  # be careful, non-numerical columns won't show be compared\n",
    "data2['e'] = ('a '*60).split()\n",
    "data2"
   ]
  },
  {
   "cell_type": "code",
   "execution_count": 21,
   "id": "54bf3fbf",
   "metadata": {},
   "outputs": [
    {
     "data": {
      "text/html": [
       "<div>\n",
       "<style scoped>\n",
       "    .dataframe tbody tr th:only-of-type {\n",
       "        vertical-align: middle;\n",
       "    }\n",
       "\n",
       "    .dataframe tbody tr th {\n",
       "        vertical-align: top;\n",
       "    }\n",
       "\n",
       "    .dataframe thead th {\n",
       "        text-align: right;\n",
       "    }\n",
       "</style>\n",
       "<table border=\"1\" class=\"dataframe\">\n",
       "  <thead>\n",
       "    <tr style=\"text-align: right;\">\n",
       "      <th></th>\n",
       "      <th></th>\n",
       "      <th>a</th>\n",
       "      <th>b</th>\n",
       "      <th>c</th>\n",
       "      <th>d</th>\n",
       "    </tr>\n",
       "  </thead>\n",
       "  <tbody>\n",
       "    <tr>\n",
       "      <th rowspan=\"3\" valign=\"top\">a</th>\n",
       "      <th>Pearson's r</th>\n",
       "      <td>1.0</td>\n",
       "      <td>0.489***</td>\n",
       "      <td>0.118</td>\n",
       "      <td>0.294*</td>\n",
       "    </tr>\n",
       "    <tr>\n",
       "      <th>Sample size</th>\n",
       "      <td>NaN</td>\n",
       "      <td>59.0</td>\n",
       "      <td>59.0</td>\n",
       "      <td>59.0</td>\n",
       "    </tr>\n",
       "    <tr>\n",
       "      <th>p value</th>\n",
       "      <td>1.0</td>\n",
       "      <td>0.0</td>\n",
       "      <td>0.374</td>\n",
       "      <td>0.024</td>\n",
       "    </tr>\n",
       "    <tr>\n",
       "      <th rowspan=\"3\" valign=\"top\">b</th>\n",
       "      <th>Pearson's r</th>\n",
       "      <td>0.489***</td>\n",
       "      <td>1.0</td>\n",
       "      <td>0.291*</td>\n",
       "      <td>0.22</td>\n",
       "    </tr>\n",
       "    <tr>\n",
       "      <th>Sample size</th>\n",
       "      <td>59.0</td>\n",
       "      <td>NaN</td>\n",
       "      <td>60.0</td>\n",
       "      <td>60.0</td>\n",
       "    </tr>\n",
       "    <tr>\n",
       "      <th>p value</th>\n",
       "      <td>0.0</td>\n",
       "      <td>1.0</td>\n",
       "      <td>0.024</td>\n",
       "      <td>0.091</td>\n",
       "    </tr>\n",
       "    <tr>\n",
       "      <th rowspan=\"3\" valign=\"top\">c</th>\n",
       "      <th>Pearson's r</th>\n",
       "      <td>0.118</td>\n",
       "      <td>0.291*</td>\n",
       "      <td>1.0</td>\n",
       "      <td>-0.202</td>\n",
       "    </tr>\n",
       "    <tr>\n",
       "      <th>Sample size</th>\n",
       "      <td>59.0</td>\n",
       "      <td>60.0</td>\n",
       "      <td>NaN</td>\n",
       "      <td>60.0</td>\n",
       "    </tr>\n",
       "    <tr>\n",
       "      <th>p value</th>\n",
       "      <td>0.374</td>\n",
       "      <td>0.024</td>\n",
       "      <td>1.0</td>\n",
       "      <td>0.122</td>\n",
       "    </tr>\n",
       "    <tr>\n",
       "      <th rowspan=\"3\" valign=\"top\">d</th>\n",
       "      <th>Pearson's r</th>\n",
       "      <td>0.294*</td>\n",
       "      <td>0.22</td>\n",
       "      <td>-0.202</td>\n",
       "      <td>1.0</td>\n",
       "    </tr>\n",
       "    <tr>\n",
       "      <th>Sample size</th>\n",
       "      <td>59.0</td>\n",
       "      <td>60.0</td>\n",
       "      <td>60.0</td>\n",
       "      <td>NaN</td>\n",
       "    </tr>\n",
       "    <tr>\n",
       "      <th>p value</th>\n",
       "      <td>0.024</td>\n",
       "      <td>0.091</td>\n",
       "      <td>0.122</td>\n",
       "      <td>1.0</td>\n",
       "    </tr>\n",
       "  </tbody>\n",
       "</table>\n",
       "</div>"
      ],
      "text/plain": [
       "                      a         b       c       d\n",
       "a Pearson's r       1.0  0.489***   0.118  0.294*\n",
       "  Sample size       NaN      59.0    59.0    59.0\n",
       "  p value           1.0       0.0   0.374   0.024\n",
       "b Pearson's r  0.489***       1.0  0.291*    0.22\n",
       "  Sample size      59.0       NaN    60.0    60.0\n",
       "  p value           0.0       1.0   0.024   0.091\n",
       "c Pearson's r     0.118    0.291*     1.0  -0.202\n",
       "  Sample size      59.0      60.0     NaN    60.0\n",
       "  p value         0.374     0.024     1.0   0.122\n",
       "d Pearson's r    0.294*      0.22  -0.202     1.0\n",
       "  Sample size      59.0      60.0    60.0     NaN\n",
       "  p value         0.024     0.091   0.122     1.0"
      ]
     },
     "execution_count": 21,
     "metadata": {},
     "output_type": "execute_result"
    }
   ],
   "source": [
    "corr_matrix(data2, significance=True, decimals=3)"
   ]
  },
  {
   "cell_type": "markdown",
   "id": "ef2ec807",
   "metadata": {},
   "source": [
    "### Heatplot?\n",
    "\n",
    "This could eventually be another function."
   ]
  },
  {
   "cell_type": "code",
   "execution_count": 15,
   "id": "7bdab0f8",
   "metadata": {},
   "outputs": [
    {
     "data": {
      "text/plain": [
       "<AxesSubplot:>"
      ]
     },
     "execution_count": 15,
     "metadata": {},
     "output_type": "execute_result"
    },
    {
     "data": {
      "image/png": "[encoded data removed]",
      "text/plain": [
       "<Figure size 936x576 with 2 Axes>"
      ]
     },
     "metadata": {
      "needs_background": "light"
     },
     "output_type": "display_data"
    }
   ],
   "source": [
    "import matplotlib.pyplot as plt\n",
    "import seaborn as sns\n",
    "\n",
    "df_c = data.corr(method=lambda x, y: pearsonr(x,y)[0])\n",
    "pval = data.corr(method=lambda x, y: pearsonr(x,y)[1])\n",
    "\n",
    "p = pval.applymap(lambda x: ''.join(['*' for t in [0.001,0.01,0.05] if x<=t]))\n",
    "#dfc_2 below will give you the dataframe with correlation coefficients and p values\n",
    "df_c2 = df_c.astype(str) + p\n",
    "\n",
    "#you could also plot the correlation matrix using sns.heatmap if you want\n",
    "#plot the triangle\n",
    "matrix = np.triu(df_c.corr())\n",
    "#convert to array for the heatmap\n",
    "df_c3 = df_c2.to_numpy()\n",
    "\n",
    "#plot the heatmap\n",
    "plt.figure(figsize=(13,8))\n",
    "sns.heatmap(df_c, annot = df_c3, fmt='', vmin=-1, vmax=1, center= 0, cmap= 'coolwarm', mask = matrix)"
   ]
  },
  {
   "cell_type": "code",
   "execution_count": null,
   "id": "5c39687e",
   "metadata": {},
   "outputs": [],
   "source": []
  }
 ],
 "metadata": {
  "kernelspec": {
   "display_name": "Python 3",
   "language": "python",
   "name": "python3"
  },
  "language_info": {
   "codemirror_mode": {
    "name": "ipython",
    "version": 3
   },
   "file_extension": ".py",
   "mimetype": "text/x-python",
   "name": "python",
   "nbconvert_exporter": "python",
   "pygments_lexer": "ipython3",
   "version": "3.8.5"
  },
  "toc": {
   "base_numbering": 1,
   "nav_menu": {},
   "number_sections": true,
   "sideBar": true,
   "skip_h1_title": false,
   "title_cell": "Table of Contents",
   "title_sidebar": "Contents",
   "toc_cell": false,
   "toc_position": {},
   "toc_section_display": true,
   "toc_window_display": true
  },
  "varInspector": {
   "cols": {
    "lenName": 16,
    "lenType": 16,
    "lenVar": 40
   },
   "kernels_config": {
    "python": {
     "delete_cmd_postfix": "",
     "delete_cmd_prefix": "del ",
     "library": "var_list.py",
     "varRefreshCmd": "print(var_dic_list())"
    },
    "r": {
     "delete_cmd_postfix": ") ",
     "delete_cmd_prefix": "rm(",
     "library": "var_list.r",
     "varRefreshCmd": "cat(var_dic_list()) "
    }
   },
   "types_to_exclude": [
    "module",
    "function",
    "builtin_function_or_method",
    "instance",
    "_Feature"
   ],
   "window_display": false
  }
 },
 "nbformat": 4,
 "nbformat_minor": 5
}
